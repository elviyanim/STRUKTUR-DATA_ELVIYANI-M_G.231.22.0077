{
  "cells": [
    {
      "cell_type": "code",
      "execution_count": 5,
      "metadata": {
        "colab": {
          "base_uri": "https://localhost:8080/"
        },
        "id": "Ana_iQmeO5pT",
        "outputId": "d89102e0-4767-4dd6-973b-1f360ec0cce0"
      },
      "outputs": [
        {
          "name": "stdout",
          "output_type": "stream",
          "text": [
            "Benar!!! \n",
            "Kalimat ini adalah pangram \n"
          ]
        }
      ],
      "source": [
        "#Program Python untuk memeriksa string pangram atau tidak.\n",
        "\n",
        "import string                                   #Import modul string\n",
        "\n",
        "def ispangram(str):\n",
        "    alphabet = \"abcdefghijklmnopqrstuvwxyz\"     # Memberikan nilai pada alphabet\n",
        "    for huruf in alphabet:                      # Dalam huruf di alphabet.\n",
        "        if huruf not in str.lower():            # Jika huruf tidak ada di alphabet,\n",
        "            return False                        # maka akan mendapat return false karena bukan pangram\n",
        "\n",
        "    return True                                 # Jika huruf ada di alphabeth maka mendapat return True karena pangram\n",
        "\n",
        "\n",
        "#Driver program untuk mencoba function diatas\n",
        "kalimat = 'the quick brown fox jumps over the lazy three dog'  # memberikan kalimat untuk di cek\n",
        "if(ispangram(kalimat) == True):\n",
        "    print(\"Benar!!! \\nKalimat ini adalah pangram \")            # jika benar, akan keluar benar kalimat ini adalah pangram\n",
        "else:\n",
        "    print(\"Tidak!!! \\nKalimat ini BUKAN pangram \")             # jika benar, akan keluar Tidak kalimat ini bukan pangram\n"
      ]
    }
  ],
  "metadata": {
    "colab": {
      "provenance": []
    },
    "kernelspec": {
      "display_name": "Python 3",
      "name": "python3"
    },
    "language_info": {
      "name": "python"
    }
  },
  "nbformat": 4,
  "nbformat_minor": 0
}
