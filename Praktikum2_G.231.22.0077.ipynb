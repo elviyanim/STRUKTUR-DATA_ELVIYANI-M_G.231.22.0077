{
  "nbformat": 4,
  "nbformat_minor": 0,
  "metadata": {
    "colab": {
      "provenance": []
    },
    "kernelspec": {
      "name": "python3",
      "display_name": "Python 3"
    },
    "language_info": {
      "name": "python"
    }
  },
  "cells": [
    {
      "cell_type": "markdown",
      "source": [
        "Nama = Elviyani Mawarni\n",
        "NIM = G.231.22.0077"
      ],
      "metadata": {
        "id": "N-5rD-gUO-VI"
      }
    },
    {
      "cell_type": "code",
      "source": [
        "def selectionSort(alist):\n",
        "  for a in range(0, len(alist)-1):\n",
        "    letak = a\n",
        "    for tempat in range(a+1, len(alist)):\n",
        "      if alist[tempat]<alist[letak]:\n",
        "        letak = tempat\n",
        "    t = alist[a]\n",
        "    alist[a]=alist[letak]\n",
        "    alist[letak]=t\n",
        "    print(alist)\n",
        "\n",
        "number = [3,9,6,4,10,5,0]\n",
        "selectionSort(number)\n",
        "print(number)"
      ],
      "metadata": {
        "colab": {
          "base_uri": "https://localhost:8080/"
        },
        "id": "WVmHUBeRNKak",
        "outputId": "d0ec16d4-6092-406e-b60d-b4f2ff8cf96b"
      },
      "execution_count": null,
      "outputs": [
        {
          "output_type": "stream",
          "name": "stdout",
          "text": [
            "[0, 9, 6, 4, 10, 5, 3]\n",
            "[0, 3, 6, 4, 10, 5, 9]\n",
            "[0, 3, 4, 6, 10, 5, 9]\n",
            "[0, 3, 4, 5, 10, 6, 9]\n",
            "[0, 3, 4, 5, 6, 10, 9]\n",
            "[0, 3, 4, 5, 6, 9, 10]\n",
            "[0, 3, 4, 5, 6, 9, 10]\n"
          ]
        }
      ]
    },
    {
      "cell_type": "markdown",
      "source": [
        "Praktikum 2\n",
        "Tuple"
      ],
      "metadata": {
        "id": "3MG_7n1CSTK5"
      }
    },
    {
      "cell_type": "code",
      "source": [
        "siswa = (\"MARK\", \"HAECHAN\")\n",
        "tuple_n = (99, 86, 82, 95, 98)\n",
        "nilai_tinggi = max(tuple_n)\n",
        "nilai_rendah = min(tuple_n)\n",
        "\n",
        "print(\"Nilai tertinggi:\", siswa[0], nilai_tinggi)\n",
        "print(\"Nilai terendah:\", siswa[1], nilai_rendah)"
      ],
      "metadata": {
        "colab": {
          "base_uri": "https://localhost:8080/"
        },
        "id": "3vg8US4i3thm",
        "outputId": "95afbc08-a760-40a2-cb5b-4da26d39bde7"
      },
      "execution_count": 7,
      "outputs": [
        {
          "output_type": "stream",
          "name": "stdout",
          "text": [
            "Nilai tertinggi: MARK 99\n",
            "Nilai terendah: HAECHAN 82\n"
          ]
        }
      ]
    },
    {
      "cell_type": "markdown",
      "source": [
        "Praktikum 2 Dictionary"
      ],
      "metadata": {
        "id": "pXCUGFfcSbvx"
      }
    },
    {
      "cell_type": "code",
      "source": [
        "\n",
        "mahasiswa = {\n",
        "    \"name\": \"Mark Lee\",\n",
        "    \"usia\": 24,\n",
        "    \"prodi\": \"Teknik Informatika\",\n",
        "    \"fakultas\": \"Fakultas Teknik\",\n",
        "    \"nilai\": {\n",
        "        \"struktur_data\": 87,\n",
        "        \"bahasa_inggris\": 96,\n",
        "        \"kecerdasan_buatan\": 85\n",
        "    }\n",
        "}\n",
        "\n",
        "\n",
        "print(\"Nama:\", mahasiswa[\"name\"])\n",
        "print(\"Usia:\", mahasiswa[\"usia\"])\n",
        "print(\"Program Studi:\", mahasiswa[\"prodi\"])\n",
        "print(\"Fakultas:\", mahasiswa[\"fakultas\"])\n",
        "print(\"Nilai Struktur Data:\", mahasiswa[\"nilai\"][\"struktur_data\"])\n",
        "print(\"\\n\")\n",
        "\n",
        "#update data :\n",
        "mahasiswa['fakultas'] =\"Fakultas Teknologi Informasi dan Komunikasi\"\n",
        "mahasiswa['nilai']['struktur_data'] = 90\n",
        "\n",
        "print(\"UPDATE DATA\")\n",
        "print(\"Nama:\", mahasiswa[\"name\"])\n",
        "print(\"Usia:\", mahasiswa[\"usia\"])\n",
        "print(\"Kelas:\", mahasiswa[\"prodi\"])\n",
        "print(\"Fakultas:\", mahasiswa[\"fakultas\"])\n",
        "print(\"Nilai Struktur Data:\", mahasiswa[\"nilai\"][\"struktur_data\"])"
      ],
      "metadata": {
        "id": "9_YcdrptSnhG",
        "colab": {
          "base_uri": "https://localhost:8080/"
        },
        "outputId": "5f4e8d93-6c21-4f12-c742-2b09439975d5"
      },
      "execution_count": 25,
      "outputs": [
        {
          "output_type": "stream",
          "name": "stdout",
          "text": [
            "Nama: Mark Lee\n",
            "Usia: 24\n",
            "Program Studi: Teknik Informatika\n",
            "Fakultas: Fakultas Teknik\n",
            "Nilai Struktur Data: 87\n",
            "\n",
            "\n",
            "UPDATE DATA\n",
            "Nama: Mark Lee\n",
            "Usia: 24\n",
            "Kelas: Teknik Informatika\n",
            "Fakultas: Fakultas Teknologi Informasi dan Komunikasi\n",
            "Nilai Struktur Data: 90\n"
          ]
        }
      ]
    }
  ]
}