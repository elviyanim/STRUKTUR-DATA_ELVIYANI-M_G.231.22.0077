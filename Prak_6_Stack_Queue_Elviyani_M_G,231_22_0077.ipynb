{
  "nbformat": 4,
  "nbformat_minor": 0,
  "metadata": {
    "colab": {
      "provenance": []
    },
    "kernelspec": {
      "name": "python3",
      "display_name": "Python 3"
    },
    "language_info": {
      "name": "python"
    }
  },
  "cells": [
    {
      "cell_type": "markdown",
      "source": [
        "Nama : Elviyani Mawarni\n",
        "NIM : G.231.22.0077\n",
        "Praktikum 6 Stack Queue"
      ],
      "metadata": {
        "id": "qE7KJSf8hKKg"
      }
    },
    {
      "cell_type": "code",
      "execution_count": null,
      "metadata": {
        "colab": {
          "base_uri": "https://localhost:8080/"
        },
        "id": "l-Z5H6dYaxTr",
        "outputId": "62cda2c1-addf-4a3c-9f83-9980c14367b0"
      },
      "outputs": [
        {
          "output_type": "stream",
          "name": "stdout",
          "text": [
            "deque(['Ram', 'Tarun', 'Asif', 'John'])\n",
            "deque(['Ram', 'Tarun', 'Asif', 'John', 'Akbar'])\n",
            "deque(['Ram', 'Tarun', 'Asif', 'John', 'Akbar', 'Birbal'])\n",
            "Ram\n",
            "Tarun\n",
            "deque(['Asif', 'John', 'Akbar', 'Birbal'])\n"
          ]
        }
      ],
      "source": [
        "from collections import deque\n",
        "#membuat antrian deque berisikan Ram, Tarun, Asif, John\n",
        "queue = deque ([\"Ram\", \"Tarun\", \"Asif\", \"John\"])\n",
        "#mencetak antrian\n",
        "print(queue)\n",
        "#menambahkan data antrian di ujung kanan = Akbar\n",
        "queue.append(\"Akbar\")\n",
        "#mencetak antrian baru setelah akbar ditambahkan\n",
        "print(queue)\n",
        "#menambahkan data antrian di ujung kanan = Birbal\n",
        "queue.append(\"Birbal\")\n",
        "#mencetak antrian baru setelah birbal ditambahkan\n",
        "print(queue)\n",
        "#menghapus dan mencetak data paling kiri = Ram\n",
        "print(queue.popleft())\n",
        "#menghapus dan mencetak data paling kiri = Tarun\n",
        "print(queue.popleft())\n",
        "#mencetak antrian baru setelah dilakukan penghapusan\n",
        "print(queue)"
      ]
    },
    {
      "cell_type": "code",
      "source": [
        "#memindahkan disk dari tower dari, ke tiang menuju dengan bantuan tiang bantuan\n",
        "def TowerOfHanoi(n, dari, menuju, bantuan):\n",
        "#jika n adalah 0 maka akan menghentikan perpindahan.\n",
        "  if n == 0:\n",
        "    return\n",
        "  #memindahkan disk n-1 dari tiang \"dari\" ke tiang bantuan menggunakan tiang menuju sebagai bantuan\n",
        "  TowerOfHanoi(n-1, dari, bantuan, menuju)\n",
        "  #mencetak perpindahan disk\n",
        "  print(\"Pindah disk\", n,\"dari\", dari, \"ke\", menuju)\n",
        "  #memindahkan disk dari bantuan ke tiang menuju menggunakan tiang dari sebagai bantuan\n",
        "  TowerOfHanoi(n-1, bantuan, dari, menuju)\n",
        "\n",
        "#Driver code\n",
        "#jumlah disk ada 3\n",
        "N = 3\n",
        "\n",
        "#A, C, B are the name of rods\n",
        "#memindahkan 3 disk (N) menggunakan 3 tiang (A,B,C) menggunakan fungsi TowerOfHanoi\n",
        "TowerOfHanoi(N, 'A', 'C', 'B')\n"
      ],
      "metadata": {
        "colab": {
          "base_uri": "https://localhost:8080/"
        },
        "id": "gy8KCv6reNi5",
        "outputId": "7b51df3c-e0dc-422c-a040-9396186db4ec"
      },
      "execution_count": null,
      "outputs": [
        {
          "output_type": "stream",
          "name": "stdout",
          "text": [
            "Pindah disk 1 dari A ke C\n",
            "Pindah disk 2 dari A ke B\n",
            "Pindah disk 1 dari C ke A\n",
            "Pindah disk 3 dari A ke C\n",
            "Pindah disk 1 dari B ke C\n",
            "Pindah disk 2 dari B ke A\n",
            "Pindah disk 1 dari C ke B\n"
          ]
        }
      ]
    },
    {
      "cell_type": "code",
      "source": [
        "#membuat fungsi utk mengurutkan stack\n",
        "def sortStack(input):\n",
        "  #memberi nilai awal stack sementara\n",
        "  tmpStack = []\n",
        "  while len(input) > 0:\n",
        "    #mengambil data pertama dari input\n",
        "    tmp = input[-1]\n",
        "    input.pop()\n",
        "\n",
        "    #jika stack sementara tidak kosong dan tmpstack[-1] lebih besar dari tmp\n",
        "    while len(tmpStack) > 0 and tmpStack[-1] > tmp:\n",
        "      #maka tmpStack[-1] akan dipindahkan dari stack sementara ke input\n",
        "      input.append(tmpStack[-1])\n",
        "      tmpStack.pop()\n",
        "\n",
        "    #memindahkan tmpstack input ke stack sementara\n",
        "    tmpStack.append(tmp)\n",
        "\n",
        "  #mengembalikan nilai tmpStack\n",
        "  return tmpStack\n",
        "\n",
        "#mengurutkan array dengan fungsi sortArrayUsingStack\n",
        "def sortArrayUsingStacks(arr, n):\n",
        "  #memberi nilai awal pada input\n",
        "  input = []\n",
        "  i = 0\n",
        "  while i < n:\n",
        "    #menambahkan nilai array di input\n",
        "    input.append(arr[i])\n",
        "    i = i + 1\n",
        "\n",
        "  #menggnakan fungsi sort utk mengurutkan input\n",
        "  tmpStack = sortStack(input)\n",
        "  i = 0\n",
        "\n",
        "  #jika i lebih kecil dari n maka\n",
        "  while i < n:\n",
        "    #nilai i akan digantikan dengan tmpStack[-1]\n",
        "    arr[i] = tmpStack[-1]\n",
        "    tmpStack.pop()\n",
        "    i = i + 1\n",
        "\n",
        "  #nilai array\n",
        "  return arr\n",
        "\n",
        "#membuat data array\n",
        "arr = [10, 5, 15, 45]\n",
        "n = len(arr)\n",
        "\n",
        "#mengurutkan array dengan sortArrayUsingStacks\n",
        "arr = sortArrayUsingStacks(arr, n)\n",
        "i = 0\n",
        "\n",
        "#mencetak Array yang diurutkan\n",
        "while i < n:\n",
        "  print(arr[i], end=\" \")\n",
        "  i = i + 1"
      ],
      "metadata": {
        "colab": {
          "base_uri": "https://localhost:8080/"
        },
        "id": "iedY-9g1rhTR",
        "outputId": "e1cf6904-9763-4157-8c28-29a9964334a0"
      },
      "execution_count": 2,
      "outputs": [
        {
          "output_type": "stream",
          "name": "stdout",
          "text": [
            "45 15 10 5 "
          ]
        }
      ]
    }
  ]
}