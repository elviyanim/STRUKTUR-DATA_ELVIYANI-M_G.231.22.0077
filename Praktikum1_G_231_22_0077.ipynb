{
  "nbformat": 4,
  "nbformat_minor": 0,
  "metadata": {
    "colab": {
      "provenance": []
    },
    "kernelspec": {
      "name": "python3",
      "display_name": "Python 3"
    },
    "language_info": {
      "name": "python"
    }
  },
  "cells": [
    {
      "cell_type": "code",
      "execution_count": 5,
      "metadata": {
        "colab": {
          "base_uri": "https://localhost:8080/"
        },
        "id": "oyGmD_SQ92Qv",
        "outputId": "fc286af3-168c-4dbd-aba3-0a4e15364981"
      },
      "outputs": [
        {
          "output_type": "stream",
          "name": "stdout",
          "text": [
            "Isi temanku indeks ke-3 adalah:Fefe\n",
            "Semua teman: ada 5 orang\n",
            "Elvi\n",
            "Eva\n",
            "Celine\n",
            "Fefe\n",
            "Vale\n"
          ]
        }
      ],
      "source": [
        "temanku = [\"Elvi\", \"Eva\", \"Celine\", \"Fefe\",\"Vale\"]\n",
        "print(\"Isi temanku indeks ke-3 adalah:{}\".format(temanku[3]))\n",
        "print( \"Semua teman: ada {} orang\".format(len(temanku)) )\n",
        "for teman in temanku: print (teman)"
      ]
    },
    {
      "cell_type": "code",
      "source": [
        "list_nilai =[1,2,3,4,5,6,7,8,9,10]\n",
        "\n",
        "#Tampilkan list\n",
        "print(\"List Nilai : \\n\",list_nilai)\n",
        "\n",
        "#Menggunakan len\n",
        "print(\"\\nJumlah Index list nilai (len) : \\n\", len(list_nilai))\n",
        "\n",
        "#Menggunakan count\n",
        "print(\"\\nJumlah Nilai 5 Dalam List (count) : \\n\", list_nilai.count(5))\n",
        "\n",
        "#Menggunakan append\n",
        "print(\"\\nMenambah element dalam list (append) : \")\n",
        "list_nilai.append(12)\n",
        "list_nilai.append(10)\n",
        "print(\"List Nilai : \",list_nilai)\n",
        "\n",
        "#Menggunakan index\n",
        "print(\"\\nIndex ke 8 (index) : \\n\", list_nilai.index(8))\n",
        "\n",
        "#Menggunakan insert\n",
        "list_nilai.insert(1,12)\n",
        "print(\"\\nTambah Nilai List (Insert) : \\n\", list_nilai)\n",
        "\n",
        "#Menggunakan pop\n",
        "list_nilai.pop()\n",
        "list_nilai.pop()\n",
        "print(\"\\nList Nilai (pop) : \\n\",list_nilai)\n",
        "\n",
        "#Menggunakan remove\n",
        "list_nilai.remove(2)\n",
        "list_nilai.remove(1)\n",
        "print(\"\\nList Nilai (remove) : \\n\", list_nilai)\n",
        "\n",
        "#Menggunakan extend\n",
        "list_nilai2 = [4,3,8,7]\n",
        "list_nilai.extend(list_nilai2)\n",
        "print(\"\\nList Nilai (extend : \\n\", list_nilai)\n",
        "\n",
        "#Menggunakan reverse\n",
        "list_nilai.reverse()\n",
        "print(\"\\nList Nilai (reverse) : \\n\", list_nilai)\n",
        "\n",
        "#Menggunakan sort\n",
        "list_nilai.sort()\n",
        "print(\"\\nList Nilai (sort) : \\n\", list_nilai)\n",
        "\n",
        "#Menggunakan Max\n",
        "print(\"\\nNilai Terbanyak (max) : \\n\", max(list_nilai))\n",
        "\n",
        "#Mengguankan min\n",
        "print(\"\\nNilai terendah (min) : \\n\", min(list_nilai))\n",
        "\n",
        "#Menggunakan Sum\n",
        "print(\"\\nTotal penjumlahan nilai dari list_nilai (sum) : \\n\",\n",
        "sum(list_nilai))"
      ],
      "metadata": {
        "colab": {
          "base_uri": "https://localhost:8080/"
        },
        "id": "jqKZ2Q-b_R9T",
        "outputId": "0d4652b7-4f01-4ce2-de63-73e6e5a56f75"
      },
      "execution_count": 18,
      "outputs": [
        {
          "output_type": "stream",
          "name": "stdout",
          "text": [
            "List Nilai : \n",
            " [1, 2, 3, 4, 5, 6, 7, 8, 9, 10]\n",
            "\n",
            "Jumlah Index list nilai (len) : \n",
            " 10\n",
            "\n",
            "Jumlah Nilai 5 Dalam List (count) : \n",
            " 1\n",
            "\n",
            "Menambah element dalam list (append) : \n",
            "List Nilai :  [1, 2, 3, 4, 5, 6, 7, 8, 9, 10, 12, 10]\n",
            "\n",
            "Index ke 8 (index) : \n",
            " 7\n",
            "\n",
            "Tambah Nilai List (Insert) : \n",
            " [1, 12, 2, 3, 4, 5, 6, 7, 8, 9, 10, 12, 10]\n",
            "\n",
            "List Nilai (pop) : \n",
            " [1, 12, 2, 3, 4, 5, 6, 7, 8, 9, 10]\n",
            "\n",
            "List Nilai (remove) : \n",
            " [12, 3, 4, 5, 6, 7, 8, 9, 10]\n",
            "\n",
            "List Nilai (extend : \n",
            " [12, 3, 4, 5, 6, 7, 8, 9, 10, 4, 3, 8, 7]\n",
            "\n",
            "List Nilai (reverse) : \n",
            " [7, 8, 3, 4, 10, 9, 8, 7, 6, 5, 4, 3, 12]\n",
            "\n",
            "List Nilai (sort) : \n",
            " [3, 3, 4, 4, 5, 6, 7, 7, 8, 8, 9, 10, 12]\n",
            "\n",
            "Nilai Terbanyak (max) : \n",
            " 12\n",
            "\n",
            "Nilai terendah (min) : \n",
            " 3\n",
            "\n",
            "Total penjumlahan nilai dari list_nilai (sum) : \n",
            " 86\n"
          ]
        }
      ]
    }
  ]
}