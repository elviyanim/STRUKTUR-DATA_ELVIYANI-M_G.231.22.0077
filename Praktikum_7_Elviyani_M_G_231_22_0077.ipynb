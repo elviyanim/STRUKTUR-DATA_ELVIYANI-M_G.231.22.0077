{
  "nbformat": 4,
  "nbformat_minor": 0,
  "metadata": {
    "colab": {
      "provenance": []
    },
    "kernelspec": {
      "name": "python3",
      "display_name": "Python 3"
    },
    "language_info": {
      "name": "python"
    }
  },
  "cells": [
    {
      "cell_type": "markdown",
      "source": [
        "Inorder_G.231.22.0077"
      ],
      "metadata": {
        "id": "1Fo5CpSOjMF5"
      }
    },
    {
      "cell_type": "code",
      "execution_count": null,
      "metadata": {
        "colab": {
          "base_uri": "https://localhost:8080/"
        },
        "id": "9uZgJOJKdKm3",
        "outputId": "cae5f3f0-2bb6-4f87-fb34-f08ce1fb8833"
      },
      "outputs": [
        {
          "output_type": "stream",
          "name": "stdout",
          "text": [
            "\\mInorder traversal of binary tree is\n",
            "4\n",
            "2\n",
            "5\n",
            "1\n",
            "3\n"
          ]
        }
      ],
      "source": [
        "class Node:\n",
        "  def __init__(self, key):\n",
        "    self.left = None\n",
        "    self.right = None\n",
        "    self.val = key\n",
        "\n",
        "\n",
        "def printInoder(root):\n",
        "  if root :\n",
        "    printInoder(root.left)\n",
        "    print(root.val),\n",
        "\n",
        "    printInoder(root.right)\n",
        "\n",
        "\n",
        "if __name__ ==\"__main__\":\n",
        "    root = Node(1)\n",
        "    root.left = Node(2)\n",
        "    root.right = Node(3)\n",
        "    root.left.left = Node(4)\n",
        "    root.left.right = Node(5)\n",
        "\n",
        "    print (\"\\mInorder traversal of binary tree is\")\n",
        "    printInoder(root)\n"
      ]
    },
    {
      "cell_type": "markdown",
      "source": [
        "Preorder_G.231.22.0077"
      ],
      "metadata": {
        "id": "OWuzexDCjGV5"
      }
    },
    {
      "cell_type": "code",
      "source": [
        "class Node:\n",
        "  def __init__(self, key):\n",
        "    self.left = None\n",
        "    self.right = None\n",
        "    self.val = key\n",
        "\n",
        "def printPreorder(root):\n",
        "  if root:\n",
        "    print(root.val),\n",
        "    printPreorder(root.left)\n",
        "    printPreorder(root.right)\n",
        "\n",
        "if __name__ ==\"__main__\":\n",
        "  root = Node(1)\n",
        "  root.left = Node(2)\n",
        "  root.right = Node(3)\n",
        "  root.left.left = Node(4)\n",
        "  root.left.right = Node(5)\n",
        "\n",
        "print (\"\\nPreorder traversal of binary tree is\")\n",
        "printPreorder(root)"
      ],
      "metadata": {
        "colab": {
          "base_uri": "https://localhost:8080/"
        },
        "id": "Xt9KMoCbfEq1",
        "outputId": "09e1cd40-cc4d-4f3d-be6a-8826cedad026"
      },
      "execution_count": null,
      "outputs": [
        {
          "output_type": "stream",
          "name": "stdout",
          "text": [
            "\n",
            "Preorder traversal of binary tree is\n",
            "1\n",
            "2\n",
            "4\n",
            "5\n",
            "3\n"
          ]
        }
      ]
    },
    {
      "cell_type": "markdown",
      "source": [
        "Postorder_G.231.22.0077"
      ],
      "metadata": {
        "id": "HC_1ofqki9tI"
      }
    },
    {
      "cell_type": "code",
      "source": [
        "class Node:\n",
        "  def __init__(self, key):\n",
        "    self.left = None\n",
        "    self.right = None\n",
        "    self.val = key\n",
        "\n",
        "def printPostorder(root):\n",
        "  if root:\n",
        "    printPostorder(root.left)\n",
        "    printPostorder(root.right)\n",
        "    print(root.val)\n",
        "\n",
        "if __name__ ==\"__main__\":\n",
        "  root = Node(1)\n",
        "  root.left = Node(2)\n",
        "  root.right = Node(3)\n",
        "  root.left.left = Node(4)\n",
        "  root.left.right = Node(5)\n",
        "\n",
        "print (\"\\nPostorder traversal of binary tree is\")\n",
        "printPostorder(root)\n"
      ],
      "metadata": {
        "colab": {
          "base_uri": "https://localhost:8080/"
        },
        "id": "rc9a0N7QiJ54",
        "outputId": "b013df48-ac3a-4e8a-dfd5-f4ff80da5f41"
      },
      "execution_count": null,
      "outputs": [
        {
          "output_type": "stream",
          "name": "stdout",
          "text": [
            "\n",
            "Postorder traversal of binary tree is\n",
            "4\n",
            "5\n",
            "2\n",
            "3\n",
            "1\n"
          ]
        }
      ]
    },
    {
      "cell_type": "code",
      "source": [],
      "metadata": {
        "id": "N6Y7msNhhzdj"
      },
      "execution_count": null,
      "outputs": []
    }
  ]
}