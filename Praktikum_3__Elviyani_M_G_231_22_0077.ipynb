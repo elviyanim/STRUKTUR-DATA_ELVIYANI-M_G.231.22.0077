{
  "nbformat": 4,
  "nbformat_minor": 0,
  "metadata": {
    "colab": {
      "provenance": []
    },
    "kernelspec": {
      "name": "python3",
      "display_name": "Python 3"
    },
    "language_info": {
      "name": "python"
    }
  },
  "cells": [
    {
      "cell_type": "code",
      "execution_count": 3,
      "metadata": {
        "colab": {
          "base_uri": "https://localhost:8080/"
        },
        "id": "uZzBM_TJTp8k",
        "outputId": "8ebd4d64-c0ab-4792-9b2f-79472dd3e43c"
      },
      "outputs": [
        {
          "output_type": "stream",
          "name": "stdout",
          "text": [
            "geeksforgeeks\n"
          ]
        }
      ],
      "source": [
        "def convert(s):\n",
        " new = \"\"\n",
        " for x in s:\n",
        "  new += x\n",
        "\n",
        " return new\n",
        "\n",
        "# driver code\n",
        "s = ['g', 'e', 'e', 'k', 's', 'f', 'o', 'r',\n",
        "'g', 'e', 'e', 'k', 's']\n",
        "\n",
        "print(convert (s))"
      ]
    },
    {
      "cell_type": "code",
      "source": [
        "def convert(a):\n",
        " new = \"\"\n",
        " for x in a:\n",
        "  new += x\n",
        "\n",
        " return new\n",
        "\n",
        "a = ['p', 'r', 'o', 'g', 'r', 'a', 'm',\n",
        " 'm', 'i', 'n', 'g']\n",
        "\n",
        "print(convert (a))"
      ],
      "metadata": {
        "colab": {
          "base_uri": "https://localhost:8080/"
        },
        "id": "fqd774q-UDX2",
        "outputId": "9855b49b-3d4a-4d9b-e410-525074c9bd38"
      },
      "execution_count": 9,
      "outputs": [
        {
          "output_type": "stream",
          "name": "stdout",
          "text": [
            "programming\n"
          ]
        }
      ]
    },
    {
      "cell_type": "code",
      "source": [],
      "metadata": {
        "id": "PCUbb15LU3pH"
      },
      "execution_count": null,
      "outputs": []
    }
  ]
}