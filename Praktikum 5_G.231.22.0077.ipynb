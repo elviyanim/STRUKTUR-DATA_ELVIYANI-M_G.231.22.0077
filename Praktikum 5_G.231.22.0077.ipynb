{
  "nbformat": 4,
  "nbformat_minor": 0,
  "metadata": {
    "colab": {
      "provenance": []
    },
    "kernelspec": {
      "name": "python3",
      "display_name": "Python 3"
    },
    "language_info": {
      "name": "python"
    }
  },
  "cells": [
    {
      "cell_type": "markdown",
      "source": [
        "Nama : Elviyani Mawarni\n",
        "NIM : G.231.22.0077\n",
        "PRAKTIKUM 5\n"
      ],
      "metadata": {
        "id": "CRLF-0gQLeJe"
      }
    },
    {
      "cell_type": "code",
      "execution_count": 1,
      "metadata": {
        "id": "Jexn2lmPIigI"
      },
      "outputs": [],
      "source": [
        "#mengurutkan data alist dengan selectionSort\n",
        "def selectionSort(alist):\n",
        "  #membuat loop dalam data urutan ke 1 (array 0) sampai data terakhir (len(allist)-1 : data array paling terakhir)\n",
        "  for slot in range(0,len(alist)-1):\n",
        "    position=slot\n",
        "    #membuat variabel baru location, kemudian membuat loop di variabel lokasi dari urutan data setelah data slot(slot+1)\n",
        "    for location in range(slot+1,len(alist)):\n",
        "      #Jika alist location lebih kecil dari position maka position = location\n",
        "      if alist[location]<alist[position]:\n",
        "        position = location\n",
        "    #alis[slot] disimpan dalam varibel sementara temp\n",
        "    temp = alist[slot]\n",
        "    #kemudian alist[position] nilai terkecilnya akan disalin di slot\n",
        "    alist[slot] = alist[position]\n",
        "    #nilai yang sebelumnya disimpan di temp akan disalin di position\n",
        "    alist[position] = temp\n",
        "    #memunjukkan proses tiap perpindahannya\n",
        "    print(alist)\n",
        "#membuat array angka yang diurutkan\n",
        "angka = [15,9,44,11,10,1,13]\n",
        "#mengurutkan dan menunjukan hasil dengan selectionSort dari data Angka\n",
        "selectionSort(angka)\n",
        "print(angka)"
      ]
    },
    {
      "cell_type": "code",
      "source": [
        "#mengurutkan data data dengan BubbleSort\n",
        "def shortBubbleSort(data):\n",
        "  #membuat variabel exchange True\n",
        "  exchanges = True\n",
        "  #membuat variabel passnum yang berisi panjang data -1\n",
        "  passnum = len(data) - 1\n",
        "  #membuat loop ketika pasnum lebih 0 dan exchange\n",
        "  while passnum > 0 and exchanges:\n",
        "    #mengubah nilai exchanges menjadi false\n",
        "    exchanges = False\n",
        "    #membuat loop dengan variabel i range sesuai data yang ingin diurutkan (passnum)\n",
        "    for i in range(passnum):\n",
        "      #jika data i (array 0) lebih besar dari data i+1(0+1, data [1]) maka akan ditukar.\n",
        "      if data[i]>data[i+1]:\n",
        "        exchanges = True\n",
        "        temp = data[i]\n",
        "        data[i] =data[i+1]\n",
        "        data[i+1] = temp\n",
        "    #menunjukkan proses tiap perpindahannya\n",
        "    print(data)\n",
        "    passnum = passnum - 1\n",
        "#membuat data (array)\n",
        "data =[5,3,13,2,11,4,7]\n",
        "#mengurutkan dan menunjukan hasil dengan BubbleSort dari data\n",
        "shortBubbleSort(data)\n",
        "print(data)"
      ],
      "metadata": {
        "id": "7ADyTaYpbrlN",
        "colab": {
          "base_uri": "https://localhost:8080/"
        },
        "outputId": "a311c793-25c1-4f61-8b98-d15a9dad12c1"
      },
      "execution_count": 2,
      "outputs": [
        {
          "output_type": "stream",
          "name": "stdout",
          "text": [
            "[3, 5, 2, 11, 4, 7, 13]\n",
            "[3, 2, 5, 4, 7, 11, 13]\n",
            "[2, 3, 4, 5, 7, 11, 13]\n",
            "[2, 3, 4, 5, 7, 11, 13]\n",
            "[2, 3, 4, 5, 7, 11, 13]\n"
          ]
        }
      ]
    },
    {
      "cell_type": "code",
      "source": [
        "##mengurutkan data  dengan InsertionSort\n",
        "def insertionSort(data):\n",
        "  #membuat loop dengan variabel index dengan range mulai dari data array 1\n",
        "  for index in range(1, len(data)):\n",
        "    #menyimpan data dari index ke currentvalue\n",
        "    currentvalue =data[index]\n",
        "    letak = index\n",
        "    #Jika letak lebih dari 0 dan nilai letak sebelumnya lebih besar dari currentvalue\n",
        "    while letak>0 and data[letak-1]> currentvalue:\n",
        "      #memindahkan data letak-1 ke letak (contoh: data letak array 1 berarti memindahkan data [0] ke 1)\n",
        "      data[letak]=data[letak-1]\n",
        "      letak=letak-1\n",
        "    data[letak]=currentvalue\n",
        "    #menunjukkan proses tiap perpindahannya\n",
        "    print(data)\n",
        "\n",
        "#membuat data (array)\n",
        "data = [5,3,13,2,11,4,7]\n",
        "#mengurutkan dan menunjukan hasil dengan BubbleSort dari data\n",
        "insertionSort(data)\n",
        "print(data)"
      ],
      "metadata": {
        "id": "o1zaiO84btwQ",
        "colab": {
          "base_uri": "https://localhost:8080/"
        },
        "outputId": "2883a1c2-0f5a-4e34-e3de-f909795de4f0"
      },
      "execution_count": 3,
      "outputs": [
        {
          "output_type": "stream",
          "name": "stdout",
          "text": [
            "[3, 5, 13, 2, 11, 4, 7]\n",
            "[3, 5, 13, 2, 11, 4, 7]\n",
            "[2, 3, 5, 13, 11, 4, 7]\n",
            "[2, 3, 5, 11, 13, 4, 7]\n",
            "[2, 3, 4, 5, 11, 13, 7]\n",
            "[2, 3, 4, 5, 7, 11, 13]\n",
            "[2, 3, 4, 5, 7, 11, 13]\n"
          ]
        }
      ]
    }
  ]
}